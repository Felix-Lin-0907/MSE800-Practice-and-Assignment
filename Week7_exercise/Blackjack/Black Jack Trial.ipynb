{
 "cells": [
  {
   "cell_type": "code",
   "execution_count": 1,
   "id": "ec8de83a-9022-4658-8c51-38e8acc17960",
   "metadata": {},
   "outputs": [
    {
     "name": "stdout",
     "output_type": "stream",
     "text": [
      "Requirement already satisfied: art in ./anaconda3/lib/python3.11/site-packages (6.2)\n"
     ]
    }
   ],
   "source": [
    "!pip install art"
   ]
  },
  {
   "cell_type": "code",
   "execution_count": 5,
   "id": "44ec068b-7665-4c4d-bbb5-67e6c388afd0",
   "metadata": {},
   "outputs": [
    {
     "name": "stdout",
     "output_type": "stream",
     "text": [
      "['ART_COUNTER', 'ART_NAMES', 'ART_VERSION', 'ASCII_ARTS', 'ASCII_FONTS', 'DECORATION_COUNTER', 'DECORATION_NAMES', 'DEFAULT_FONT', 'FONT_COUNTER', 'FONT_NAMES', 'NON_ASCII_ARTS', 'NON_ASCII_FONTS', '__builtins__', '__cached__', '__doc__', '__file__', '__loader__', '__name__', '__package__', '__path__', '__spec__', '__version__', 'aprint', 'art', 'artError', 'art_dic', 'art_list', 'art_param', 'decor', 'decor_dic', 'decor_list', 'font_list', 'get_font_dic', 'help_func', 'randart', 'set_default', 'text2art', 'text_dic1', 'text_dic2', 'text_dic3', 'tprint', 'tsave']\n"
     ]
    }
   ],
   "source": [
    "import art\n",
    "print(dir(art))"
   ]
  },
  {
   "cell_type": "code",
   "execution_count": 11,
   "id": "cfacd8a9-fc6b-4fb5-b1d4-608af79d26e6",
   "metadata": {},
   "outputs": [
    {
     "name": "stdout",
     "output_type": "stream",
     "text": [
      " ____   _               _          _               _    \n",
      "| __ ) | |  __ _   ___ | | __     | |  __ _   ___ | | __\n",
      "|  _ \\ | | / _` | / __|| |/ /  _  | | / _` | / __|| |/ /\n",
      "| |_) || || (_| || (__ |   <  | |_| || (_| || (__ |   < \n",
      "|____/ |_| \\__,_| \\___||_|\\_\\  \\___/  \\__,_| \\___||_|\\_\\\n",
      "                                                        \n",
      "\n"
     ]
    }
   ],
   "source": [
    "from art import text2art\n",
    "\n",
    "logo = text2art(\"Black Jack\")\n",
    "print(logo)"
   ]
  },
  {
   "cell_type": "code",
   "execution_count": 13,
   "id": "87dbb4d9-2d24-4b17-9f84-d3cfdf32ae76",
   "metadata": {},
   "outputs": [
    {
     "name": "stdout",
     "output_type": "stream",
     "text": [
      "Name: art\n",
      "Version: 6.2\n",
      "Summary: ASCII Art Library For Python\n",
      "Home-page: https://github.com/sepandhaghighi/art\n",
      "Author: Sepand Haghighi\n",
      "Author-email: info@ascii-art.site\n",
      "License: MIT\n",
      "Location: /Users/kevinhuang/anaconda3/lib/python3.11/site-packages\n",
      "Requires: \n",
      "Required-by: \n",
      "Note: you may need to restart the kernel to use updated packages.\n"
     ]
    }
   ],
   "source": [
    "pip show art"
   ]
  },
  {
   "cell_type": "code",
   "execution_count": null,
   "id": "d6244b66-1a74-4677-8f53-96b6c36d009c",
   "metadata": {},
   "outputs": [
    {
     "name": "stdin",
     "output_type": "stream",
     "text": [
      "Do you want to play a game of Blackjack? Type 'y' or 'n':  y\n"
     ]
    },
    {
     "name": "stdout",
     "output_type": "stream",
     "text": [
      "Welcome to the game of Blackjack!\n",
      "Your cards: [10, 9], current score: 19\n",
      "Computer's first card: 3\n"
     ]
    },
    {
     "name": "stdin",
     "output_type": "stream",
     "text": [
      "Type 'y' to get another card, type 'n' to pass:  n\n"
     ]
    },
    {
     "name": "stdout",
     "output_type": "stream",
     "text": [
      "Your final hand: [10, 9], final score: 19\n",
      "Computer's final hand: [3, 5, 7, 1, 5], final score: 21\n",
      "You lose!\n"
     ]
    }
   ],
   "source": [
    "import random\n",
    "\n",
    "# Use this list as the deck of cards\n",
    "cards = [11, 2, 3, 4, 5, 6, 7, 8, 9, 10, 10, 10, 10]\n",
    "\n",
    "def deal_card():\n",
    "    \"\"\"Returns a random card from the deck.\"\"\"\n",
    "    return random.choice(cards)\n",
    "\n",
    "def calculate_score(cards):\n",
    "    \"\"\"Take a list of cards and return the score calculated from the cards.\"\"\"\n",
    "    # Check for a blackjack (a hand with only 2 cards: ace + 10) and return 0 instead of the actual score. 0 will represent a blackjack in our game.\n",
    "    if sum(cards) == 21 and len(cards) == 2:\n",
    "        return 0  # This is a blackjack\n",
    "    \n",
    "    # Check for an 11 (ace). If the score is over 21, remove the 11 and replace it with a 1.\n",
    "    if 11 in cards and sum(cards) > 21:\n",
    "        cards.remove(11)\n",
    "        cards.append(1)\n",
    "    \n",
    "    return sum(cards)\n",
    "\n",
    "def compare(user_score, computer_score):\n",
    "    \"\"\"Compares the user and computer scores and declares the winner.\"\"\"\n",
    "    if user_score == computer_score:\n",
    "        return \"It's a draw!\"\n",
    "    elif computer_score == 0:\n",
    "        return \"Computer has a blackjack! You lose.\"\n",
    "    elif user_score == 0:\n",
    "        return \"You have a blackjack! You win!\"\n",
    "    elif user_score > 21:\n",
    "        return \"You went over 21! You lose.\"\n",
    "    elif computer_score > 21:\n",
    "        return \"Computer went over 21! You win!\"\n",
    "    elif user_score > computer_score:\n",
    "        return \"You win!\"\n",
    "    else:\n",
    "        return \"You lose!\"\n",
    "\n",
    "def play_game():\n",
    "    \"\"\"The main game logic for Blackjack.\"\"\"\n",
    "    print(\"Welcome to the game of Blackjack!\")\n",
    "\n",
    "    # Deal the user and computer 2 cards each\n",
    "    user_cards = [deal_card(), deal_card()]\n",
    "    computer_cards = [deal_card(), deal_card()]\n",
    "    \n",
    "    game_over = False\n",
    "\n",
    "    while not game_over:\n",
    "        # Calculate the score for both the user and computer\n",
    "        user_score = calculate_score(user_cards)\n",
    "        computer_score = calculate_score(computer_cards)\n",
    "        \n",
    "        print(f\"Your cards: {user_cards}, current score: {user_score}\")\n",
    "        print(f\"Computer's first card: {computer_cards[0]}\")\n",
    "        \n",
    "        # Check if the game is over (either by blackjack or by going over 21)\n",
    "        if user_score == 0 or computer_score == 0 or user_score > 21:\n",
    "            game_over = True\n",
    "        else:\n",
    "            # Ask the user if they want to draw another card\n",
    "            should_continue = input(\"Type 'y' to get another card, type 'n' to pass: \")\n",
    "            if should_continue == \"y\":\n",
    "                user_cards.append(deal_card())\n",
    "            else:\n",
    "                game_over = True\n",
    "\n",
    "    # Once the user is done, let the computer play\n",
    "    while computer_score != 0 and computer_score < 17:\n",
    "        computer_cards.append(deal_card())\n",
    "        computer_score = calculate_score(computer_cards)\n",
    "    \n",
    "    print(f\"Your final hand: {user_cards}, final score: {user_score}\")\n",
    "    print(f\"Computer's final hand: {computer_cards}, final score: {computer_score}\")\n",
    "    print(compare(user_score, computer_score))\n",
    "\n",
    "# Ask the user if they want to restart the game.\n",
    "while input(\"Do you want to play a game of Blackjack? Type 'y' or 'n': \") == \"y\":\n",
    "    play_game()"
   ]
  },
  {
   "cell_type": "code",
   "execution_count": null,
   "id": "660be542-6651-45a8-92f1-5627bb2dfad1",
   "metadata": {},
   "outputs": [],
   "source": []
  }
 ],
 "metadata": {
  "kernelspec": {
   "display_name": "Python 3 (ipykernel)",
   "language": "python",
   "name": "python3"
  },
  "language_info": {
   "codemirror_mode": {
    "name": "ipython",
    "version": 3
   },
   "file_extension": ".py",
   "mimetype": "text/x-python",
   "name": "python",
   "nbconvert_exporter": "python",
   "pygments_lexer": "ipython3",
   "version": "3.11.5"
  }
 },
 "nbformat": 4,
 "nbformat_minor": 5
}
